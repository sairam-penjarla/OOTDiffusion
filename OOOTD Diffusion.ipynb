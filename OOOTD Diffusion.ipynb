{
  "cells": [
    {
      "cell_type": "code",
      "execution_count": null,
      "metadata": {
        "colab": {
          "base_uri": "https://localhost:8080/"
        },
        "id": "XwCujej8Wu0f",
        "outputId": "9e4ce9df-ea1a-4724-d47a-51787f4edb46"
      },
      "outputs": [],
      "source": [
        "! pip install basicsr\n",
        "! pip install torch==2.0.1 torchvision==0.15.2 torchaudio==2.0.2\n",
        "! pip install -r OOTDiffusion/requirements.txt\n",
        "! pip install opencv-python\n",
        "\n",
        "# if the collab notebook says it needs t restart the kernal\n",
        "# don't worry. restart it and run all cells again from the top"
      ]
    },
    {
      "cell_type": "code",
      "execution_count": null,
      "metadata": {
        "id": "PiRwPUmpZXAW"
      },
      "outputs": [],
      "source": [
        "import os\n",
        "import shutil\n",
        "\n",
        "def move_files_and_folders(source_folder, destination_folder):\n",
        "    # Ensure destination folder exists\n",
        "    if not os.path.exists(destination_folder):\n",
        "        os.makedirs(destination_folder)\n",
        "\n",
        "    # Iterate over items in the source folder\n",
        "    for item in os.listdir(source_folder):\n",
        "        # Form the full path of the item\n",
        "        source_path = os.path.join(source_folder, item)\n",
        "\n",
        "        # Check if it's a file or directory\n",
        "        if os.path.isfile(source_path):\n",
        "            # Move the file to the destination folder\n",
        "            shutil.move(source_path, destination_folder)\n",
        "        elif os.path.isdir(source_path):\n",
        "            # Move the directory to the destination folder\n",
        "            shutil.move(source_path, os.path.join(destination_folder, item))"
      ]
    },
    {
      "cell_type": "code",
      "execution_count": null,
      "metadata": {
        "colab": {
          "base_uri": "https://localhost:8080/"
        },
        "id": "y8ixOY9LWXuv",
        "outputId": "792da6d1-f911-4e07-f6bc-b37f57fb9d43"
      },
      "outputs": [],
      "source": [
        "! git clone https://github.com/levihsu/OOTDiffusion.git"
      ]
    },
    {
      "cell_type": "code",
      "execution_count": null,
      "metadata": {},
      "outputs": [],
      "source": [
        "source_folder = \"./OOTDiffusion\"\n",
        "destination_folder = \"./\"\n",
        "\n",
        "move_files_and_folders(source_folder, destination_folder)"
      ]
    },
    {
      "cell_type": "markdown",
      "metadata": {},
      "source": [
        "# Go to oootd folder, open the three .py files and removoe the ../ before the checkpoitns folder path"
      ]
    },
    {
      "cell_type": "code",
      "execution_count": null,
      "metadata": {
        "colab": {
          "base_uri": "https://localhost:8080/"
        },
        "id": "tCa-BuuMeV1i",
        "outputId": "1ae93f55-7d46-4a69-8f4d-5d90847cf050"
      },
      "outputs": [],
      "source": [
        "! git clone https://huggingface.co/levihsu/OOTDiffusion\n",
        "\n",
        "source_folder = \"./OOTDiffusion/checkpoints\"\n",
        "destination_folder = \"./checkpoints\"\n",
        "\n",
        "move_files_and_folders(source_folder, destination_folder)"
      ]
    },
    {
      "cell_type": "code",
      "execution_count": null,
      "metadata": {
        "colab": {
          "base_uri": "https://localhost:8080/"
        },
        "id": "ZPa_xZaGhFLx",
        "outputId": "1e68aa88-7a57-472e-fcfa-4324660c144c"
      },
      "outputs": [],
      "source": [
        "! git clone https://huggingface.co/openai/clip-vit-large-patch14\n",
        "\n",
        "source_folder = \"./clip-vit-large-patch14\"\n",
        "destination_folder = \"./checkpoints/clip-vit-large-patch14\"\n",
        "\n",
        "move_files_and_folders(source_folder, destination_folder)"
      ]
    },
    {
      "cell_type": "code",
      "execution_count": null,
      "metadata": {
        "colab": {
          "base_uri": "https://localhost:8080/"
        },
        "id": "e7_-SXQhX7lY",
        "outputId": "20036fa3-f07e-4cbb-952c-2eb97b9eec75"
      },
      "outputs": [],
      "source": [
        "!python run/run_ootd.py --model_path run/examples/model/049205_0.jpg --cloth_path run/examples/garment/00055_00.jpg --model_type dc --category 2 --scale 2.0 --sample 4\n",
        "source_folder = \"../checkpoints\"\n",
        "destination_folder = \"./checkpoints\"\n",
        "\n",
        "move_files_and_folders(source_folder, destination_folder)"
      ]
    },
    {
      "cell_type": "code",
      "execution_count": null,
      "metadata": {
        "id": "_JXroPfY2he0"
      },
      "outputs": [],
      "source": [
        "import cv2\n",
        "import numpy as np\n",
        "from google.colab.patches import cv2_imshow\n",
        "\n",
        "def display_images(image1_path, image2_path):\n",
        "    # Read images\n",
        "    image1 = cv2.imread(image1_path)\n",
        "    image2 = cv2.imread(image2_path)\n",
        "\n",
        "    # Check if images are loaded successfully\n",
        "    if image1 is None:\n",
        "        print(f\"Error: Unable to load image from path: {image1_path}\")\n",
        "        return\n",
        "    if image2 is None:\n",
        "        print(f\"Error: Unable to load image from path: {image2_path}\")\n",
        "        return\n",
        "\n",
        "    # Resize images while maintaining aspect ratio\n",
        "    width = 500\n",
        "    height1 = int(image1.shape[0] * width / image1.shape[1])\n",
        "    height2 = int(image2.shape[0] * width / image2.shape[1])\n",
        "    image1_resized = cv2.resize(image1, (width, height1))\n",
        "    image2_resized = cv2.resize(image2, (width, height2))\n",
        "\n",
        "    # Display the first image\n",
        "    cv2_imshow(image1_resized)\n",
        "    cv2.waitKey(0)\n",
        "    cv2.destroyAllWindows()\n",
        "\n",
        "    # Display the second image\n",
        "    cv2_imshow(image2_resized)\n",
        "    cv2.waitKey(0)\n",
        "    cv2.destroyAllWindows()\n",
        "\n",
        "\n",
        "def create_image(models, shirts):\n",
        "  for i, model_path in enumerate(os.listdir(models)):\n",
        "    for j, cloth_path in enumerate(os.listdir(shirts)):\n",
        "      model_path = os.path.join(models, model_path)\n",
        "      cloth_path = os.path.join(shirts, cloth_path)\n",
        "      output_file_name = f\"./images_output/{model_path[15+7:-4]}_{cloth_path[15+7:-4]}.png\"\n",
        "      print(model_path)\n",
        "      print(cloth_path)\n",
        "      print(output_file_name)\n",
        "      print(\"-\"*30)\n",
        "      try:\n",
        "        !python run/run_ootd.py --model_path f\"{model_path}\" --cloth_path f\"{cloth_path}\" --scale 2.0 --sample 4\n",
        "      except:\n",
        "        pass"
      ]
    },
    {
      "cell_type": "code",
      "execution_count": null,
      "metadata": {
        "colab": {
          "base_uri": "https://localhost:8080/"
        },
        "id": "xtbTi0V_3EpS",
        "outputId": "ff3c8424-a59e-43d5-efd4-8a5476c67174"
      },
      "outputs": [],
      "source": [
        "image1_path = \"testing_images/models\"\n",
        "image2_path = \"testing_images/shirts\"\n",
        "create_image(image1_path, image2_path)"
      ]
    },
    {
      "cell_type": "code",
      "execution_count": null,
      "metadata": {
        "id": "o6wxqOy13geK"
      },
      "outputs": [],
      "source": []
    }
  ],
  "metadata": {
    "accelerator": "GPU",
    "colab": {
      "gpuType": "T4",
      "provenance": []
    },
    "kernelspec": {
      "display_name": "Python 3",
      "name": "python3"
    },
    "language_info": {
      "name": "python"
    }
  },
  "nbformat": 4,
  "nbformat_minor": 0
}
